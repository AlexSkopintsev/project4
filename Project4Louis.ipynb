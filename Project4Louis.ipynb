{
  "cells": [
    {
      "cell_type": "code",
      "execution_count": 129,
      "metadata": {
        "colab": {
          "base_uri": "https://localhost:8080/"
        },
        "id": "xmnT-O2jRSTb",
        "outputId": "7e7c2bf9-efcf-4c46-ffd9-90e63b048367"
      },
      "outputs": [
        {
          "name": "stdout",
          "output_type": "stream",
          "text": [
            "Mount my google drive\n",
            "Drive already mounted at /content/drive; to attempt to forcibly remount, call drive.mount(\"/content/drive\", force_remount=True).\n"
          ]
        }
      ],
      "source": [
        "print('Mount my google drive')\n",
        "\n",
        "from google.colab import drive\n",
        "drive.mount('/content/drive')"
      ]
    },
    {
      "cell_type": "markdown",
      "metadata": {
        "id": "cWo5-RKGSzjr"
      },
      "source": [
        "Import Rmat.csv"
      ]
    },
    {
      "cell_type": "code",
      "execution_count": 130,
      "metadata": {
        "id": "ReKIDL7xRmIE"
      },
      "outputs": [],
      "source": [
        "import pandas as pd\n",
        "ratings_matrix = pd.read_csv('/content/drive/My Drive/Rmat.csv', sep=',', engine = 'python')\n"
      ]
    },
    {
      "cell_type": "code",
      "execution_count": 131,
      "metadata": {
        "colab": {
          "base_uri": "https://localhost:8080/"
        },
        "id": "jiQyuow9RvQL",
        "outputId": "32df5f8d-a16d-4260-e04f-7606aecfca3c"
      },
      "outputs": [
        {
          "name": "stdout",
          "output_type": "stream",
          "text": [
            "        m1  m10  m100  m1000  m1002  m1003  m1004  m1005  m1006  m1007  ...  \\\n",
            "u1     5.0  NaN   NaN    NaN    NaN    NaN    NaN    NaN    NaN    NaN  ...   \n",
            "u10    5.0  NaN   NaN    NaN    NaN    NaN    NaN    NaN    NaN    NaN  ...   \n",
            "u100   NaN  NaN   NaN    NaN    NaN    NaN    NaN    NaN    NaN    NaN  ...   \n",
            "u1000  5.0  NaN   NaN    NaN    NaN    NaN    NaN    NaN    NaN    NaN  ...   \n",
            "u1001  4.0  NaN   NaN    NaN    NaN    NaN    NaN    NaN    NaN    NaN  ...   \n",
            "\n",
            "       m99  m990  m991  m992  m993  m994  m996  m997  m998  m999  \n",
            "u1     NaN   NaN   NaN   NaN   NaN   NaN   NaN   NaN   NaN   NaN  \n",
            "u10    NaN   NaN   NaN   NaN   NaN   NaN   NaN   NaN   NaN   NaN  \n",
            "u100   NaN   NaN   NaN   NaN   NaN   NaN   NaN   NaN   NaN   NaN  \n",
            "u1000  NaN   NaN   NaN   NaN   NaN   NaN   NaN   NaN   NaN   NaN  \n",
            "u1001  NaN   NaN   NaN   NaN   NaN   NaN   NaN   NaN   NaN   NaN  \n",
            "\n",
            "[5 rows x 3706 columns]\n",
            "m1       3.0\n",
            "m10      4.0\n",
            "m100     NaN\n",
            "m1000    NaN\n",
            "m1002    NaN\n",
            "        ... \n",
            "m994     4.0\n",
            "m996     2.0\n",
            "m997     3.0\n",
            "m998     NaN\n",
            "m999     2.0\n",
            "Name: u1181, Length: 3706, dtype: float64\n"
          ]
        },
        {
          "data": {
            "text/plain": [
              "(6040, 3706)"
            ]
          },
          "execution_count": 131,
          "metadata": {},
          "output_type": "execute_result"
        }
      ],
      "source": [
        "print(ratings_matrix.head())\n",
        "print(ratings_matrix.loc['u1181'])\n",
        "ratings_matrix.shape"
      ]
    },
    {
      "cell_type": "code",
      "execution_count": 132,
      "metadata": {
        "colab": {
          "base_uri": "https://localhost:8080/"
        },
        "id": "hQSQwZq7YocQ",
        "outputId": "7cf5ef45-7c40-49ca-b354-d8df5fde5eb5"
      },
      "outputs": [
        {
          "name": "stdout",
          "output_type": "stream",
          "text": [
            "                                      Title    Genres\n",
            "MovieID                                              \n",
            "m1                         Toy Story (1995)  Multiple\n",
            "m2                           Jumanji (1995)  Multiple\n",
            "m3                  Grumpier Old Men (1995)  Multiple\n",
            "m4                 Waiting to Exhale (1995)  Multiple\n",
            "m5       Father of the Bride Part II (1995)    Comedy\n",
            "m6                              Heat (1995)  Multiple\n",
            "m7                           Sabrina (1995)  Multiple\n",
            "m8                      Tom and Huck (1995)  Multiple\n",
            "m9                      Sudden Death (1995)    Action\n",
            "m10                        GoldenEye (1995)  Multiple\n",
            "(3883, 2)\n"
          ]
        }
      ],
      "source": [
        "#import movie genres\n",
        "\n",
        "all_movies = pd.read_csv('/content/drive/My Drive/movies.dat', sep='::', engine = 'python',\n",
        "                     encoding=\"ISO-8859-1\", header = None)\n",
        "all_movies.columns = ['MovieID', 'Title', 'Genres']\n",
        "# simplify movie genres: multiple genres to ‘Multiple’.\n",
        "multiple_idx = pd.Series([(\"|\" in movie) for movie in all_movies['Genres']])\n",
        "all_movies.loc[multiple_idx, 'Genres'] = 'Multiple'\n",
        "\n",
        "# Convert MovieID to string and prepend 'm'\n",
        "all_movies['MovieID'] = 'm' + all_movies['MovieID'].astype(str)\n",
        "\n",
        "# Set MovieID as the index\n",
        "all_movies.set_index('MovieID', inplace=True)\n",
        "\n",
        "print(all_movies.head(10))\n",
        "print(all_movies.shape)"
      ]
    },
    {
      "cell_type": "code",
      "execution_count": 133,
      "metadata": {
        "colab": {
          "base_uri": "https://localhost:8080/"
        },
        "id": "FoPGCShjZx8m",
        "outputId": "89b56c6e-edce-4b02-a9f8-8227b2c5c8c9"
      },
      "outputs": [
        {
          "name": "stdout",
          "output_type": "stream",
          "text": [
            "m1       4.146846\n",
            "m10      3.540541\n",
            "m100     3.062500\n",
            "m1000    3.050000\n",
            "m1003    2.942149\n",
            "           ...   \n",
            "m994     4.095556\n",
            "m996     2.906250\n",
            "m997     3.357143\n",
            "m998     3.010753\n",
            "m999     3.283217\n",
            "Length: 3260, dtype: float64\n"
          ]
        }
      ],
      "source": [
        "#take average of all the columns in the rating_matrix.. the most popular are the ones with the highest ratings exclude those with less than 10 ratings\n",
        "\n",
        "# Dropping columns with less than 10 non-NA values\n",
        "filtered_ratings = ratings_matrix.dropna(axis=1, thresh=10)\n",
        "\n",
        "average_ratings = filtered_ratings.mean()\n",
        "print(average_ratings)"
      ]
    },
    {
      "cell_type": "code",
      "execution_count": 134,
      "metadata": {
        "colab": {
          "base_uri": "https://localhost:8080/"
        },
        "id": "-fBvsLadb5YX",
        "outputId": "baab0637-93bc-4fef-dcae-71bc8625e95c"
      },
      "outputs": [
        {
          "name": "stdout",
          "output_type": "stream",
          "text": [
            "                                              Title    Genres  Average_Rating\n",
            "MovieID                                                                      \n",
            "m1                                 Toy Story (1995)  Multiple        4.146846\n",
            "m2                                   Jumanji (1995)  Multiple        3.201141\n",
            "m3                          Grumpier Old Men (1995)  Multiple        3.016736\n",
            "m4                         Waiting to Exhale (1995)  Multiple        2.729412\n",
            "m5               Father of the Bride Part II (1995)    Comedy        3.006757\n",
            "...                                             ...       ...             ...\n",
            "m106     Nobody Loves Me (Keiner liebt mich) (1994)  Multiple        3.583333\n",
            "m107                  Muppet Treasure Island (1996)  Multiple        3.148438\n",
            "m110                              Braveheart (1995)  Multiple        4.234957\n",
            "m111                             Taxi Driver (1976)  Multiple        4.183871\n",
            "m112                     Rumble in the Bronx (1995)  Multiple        3.443860\n",
            "\n",
            "[100 rows x 3 columns]\n"
          ]
        }
      ],
      "source": [
        "movies = all_movies.copy()\n",
        "\n",
        "movies['Average_Rating'] = average_ratings\n",
        "\n",
        "movies.dropna(inplace=True)\n",
        "\n",
        "print(movies.head(100))"
      ]
    },
    {
      "cell_type": "code",
      "execution_count": 135,
      "metadata": {
        "colab": {
          "base_uri": "https://localhost:8080/"
        },
        "id": "5-RA1LFYdMJc",
        "outputId": "bec4f801-7b77-4ec1-9fcb-bf4dd13d48d5"
      },
      "outputs": [
        {
          "name": "stdout",
          "output_type": "stream",
          "text": [
            "                                              Title     Genres  Average_Rating\n",
            "MovieID                                                                       \n",
            "m2947                             Goldfinger (1964)     Action        3.971014\n",
            "m2948                  From Russia with Love (1963)     Action        3.889754\n",
            "m2949                                 Dr. No (1962)     Action        3.874613\n",
            "m3384    Taking of Pelham One Two Three, The (1974)     Action        3.800725\n",
            "m3310                               Kid, The (1921)     Action        3.790323\n",
            "m2347         Pope of Greenwich Village, The (1984)     Action        3.736842\n",
            "m2993                            Thunderball (1965)     Action        3.705446\n",
            "m394                             Coldblooded (1995)     Action        3.666667\n",
            "m3624                          Shanghai Noon (2000)     Action        3.654867\n",
            "m3639           Man with the Golden Gun, The (1974)     Action        3.629067\n",
            "m1254      Treasure of the Sierra Madre, The (1948)  Adventure        4.289183\n",
            "m1303             Man Who Would Be King, The (1975)  Adventure        4.129032\n",
            "m1931                   Mutiny on the Bounty (1935)  Adventure        4.031111\n",
            "m941                      Mark of Zorro, The (1940)  Adventure        3.704762\n",
            "m3492                  Son of the Sheik, The (1926)  Adventure        3.571429\n",
            "m3412                              Bear, The (1988)  Adventure        3.371429\n",
            "m3036                         Quest for Fire (1981)  Adventure        3.229885\n",
            "m761                            Phantom, The (1996)  Adventure        2.788618\n",
            "m2477                             Firewalker (1986)  Adventure        2.285714\n",
            "m2537          Beyond the Poseidon Adventure (1979)  Adventure        1.941176\n"
          ]
        }
      ],
      "source": [
        "# Function to sort and get top 10\n",
        "def get_top_10(group):\n",
        "    return group.sort_values('Average_Rating', ascending=False).head(10)\n",
        "\n",
        "# Group by 'Genres', apply the function\n",
        "top_movies_by_genre = movies.groupby('Genres').apply(get_top_10).reset_index(level=0, drop=True)\n",
        "\n",
        "# Display the result\n",
        "print(top_movies_by_genre.head(20))\n",
        "\n",
        "#save for future use\n",
        "\n",
        "top_movies_by_genre.to_csv('top_movies_by_genre.csv')\n"
      ]
    },
    {
      "cell_type": "code",
      "execution_count": 136,
      "metadata": {
        "colab": {
          "base_uri": "https://localhost:8080/"
        },
        "id": "RvAId8hZeYum",
        "outputId": "09fd5e71-1131-4680-8c57-31187c352edf"
      },
      "outputs": [
        {
          "name": "stdout",
          "output_type": "stream",
          "text": [
            "    MovieID                                 Title  Genres  Average_Rating\n",
            "121   m1199                         Brazil (1985)  Sci-Fi        4.097481\n",
            "122   m2010                     Metropolis (1926)  Sci-Fi        4.082474\n",
            "123   m1206            Clockwork Orange, A (1971)  Sci-Fi        4.078112\n",
            "124   m1301               Forbidden Planet (1956)  Sci-Fi        3.975871\n",
            "125   m2660  Thing From Another World, The (1951)  Sci-Fi        3.896296\n",
            "126   m3658         Quatermass and the Pit (1967)  Sci-Fi        3.652174\n",
            "127   m3032                 Omega Man, The (1971)  Sci-Fi        3.540179\n",
            "128   m2665   Earth Vs. the Flying Saucers (1956)  Sci-Fi        3.422535\n",
            "129   m2661       It Came from Outer Space (1953)  Sci-Fi        3.361702\n",
            "130    m680                     Alphaville (1965)  Sci-Fi        3.359375\n"
          ]
        }
      ],
      "source": [
        "#System I - i know users favorite Genre what movies can I recommend\n",
        "\n",
        "top_movies_by_genre = pd.read_csv('top_movies_by_genre.csv')\n",
        "\n",
        "favorite_genre = 'Sci-Fi' #Multiple, Western, Sci-Fi, Action\n",
        "\n",
        "print(top_movies_by_genre[top_movies_by_genre['Genres']==favorite_genre])"
      ]
    },
    {
      "cell_type": "code",
      "execution_count": 137,
      "metadata": {
        "colab": {
          "base_uri": "https://localhost:8080/"
        },
        "id": "tDVLy3pOS7rz",
        "outputId": "7f8ff0e7-bf2e-4592-b6f8-6da857e1a46c"
      },
      "outputs": [
        {
          "name": "stdout",
          "output_type": "stream",
          "text": [
            "             m1  m10  m100  m1000  m1002  m1003  m1004  m1005  m1006  m1007  \\\n",
            "u1     0.811321  NaN   NaN    NaN    NaN    NaN    NaN    NaN    NaN    NaN   \n",
            "u10    0.885287  NaN   NaN    NaN    NaN    NaN    NaN    NaN    NaN    NaN   \n",
            "u100        NaN  NaN   NaN    NaN    NaN    NaN    NaN    NaN    NaN    NaN   \n",
            "u1000  0.869048  NaN   NaN    NaN    NaN    NaN    NaN    NaN    NaN    NaN   \n",
            "u1001  0.347480  NaN   NaN    NaN    NaN    NaN    NaN    NaN    NaN    NaN   \n",
            "\n",
            "       ...  m99  m990  m991  m992  m993  m994  m996  m997  m998  m999  \n",
            "u1     ...  NaN   NaN   NaN   NaN   NaN   NaN   NaN   NaN   NaN   NaN  \n",
            "u10    ...  NaN   NaN   NaN   NaN   NaN   NaN   NaN   NaN   NaN   NaN  \n",
            "u100   ...  NaN   NaN   NaN   NaN   NaN   NaN   NaN   NaN   NaN   NaN  \n",
            "u1000  ...  NaN   NaN   NaN   NaN   NaN   NaN   NaN   NaN   NaN   NaN  \n",
            "u1001  ...  NaN   NaN   NaN   NaN   NaN   NaN   NaN   NaN   NaN   NaN  \n",
            "\n",
            "[5 rows x 3706 columns]\n"
          ]
        },
        {
          "data": {
            "text/plain": [
              "(6040, 3706)"
            ]
          },
          "execution_count": 137,
          "metadata": {},
          "output_type": "execute_result"
        }
      ],
      "source": [
        "import numpy as np\n",
        "\n",
        "\n",
        "def normalize_ratings(matrix):\n",
        "    # Calculate the mean for each row (user) excluding NaNs (missing ratings)\n",
        "    row_means = matrix.mean(axis=1, skipna=True)\n",
        "\n",
        "    # Subtract the mean from each element in the row\n",
        "    norm_matrix = matrix.sub(row_means, axis=0)\n",
        "\n",
        "\n",
        "    return norm_matrix\n",
        "\n",
        "# Normalizing the ratings matrix\n",
        "normalized_ratings = normalize_ratings(ratings_matrix)\n",
        "\n",
        "print(normalized_ratings.head())\n",
        "normalized_ratings.shape"
      ]
    },
    {
      "cell_type": "code",
      "execution_count": 138,
      "metadata": {
        "colab": {
          "base_uri": "https://localhost:8080/"
        },
        "id": "PC8DJAIyX54l",
        "outputId": "bf8395bd-7ab3-481f-c797-f6649dda4cec"
      },
      "outputs": [
        {
          "name": "stdout",
          "output_type": "stream",
          "text": [
            "Requirement already satisfied: rpy2 in /usr/local/lib/python3.10/dist-packages (3.4.2)\n",
            "Requirement already satisfied: cffi>=1.10.0 in /usr/local/lib/python3.10/dist-packages (from rpy2) (1.16.0)\n",
            "Requirement already satisfied: jinja2 in /usr/local/lib/python3.10/dist-packages (from rpy2) (3.1.2)\n",
            "Requirement already satisfied: pytz in /usr/local/lib/python3.10/dist-packages (from rpy2) (2023.3.post1)\n",
            "Requirement already satisfied: tzlocal in /usr/local/lib/python3.10/dist-packages (from rpy2) (5.2)\n",
            "Requirement already satisfied: pycparser in /usr/local/lib/python3.10/dist-packages (from cffi>=1.10.0->rpy2) (2.21)\n",
            "Requirement already satisfied: MarkupSafe>=2.0 in /usr/local/lib/python3.10/dist-packages (from jinja2->rpy2) (2.1.3)\n"
          ]
        }
      ],
      "source": [
        "!pip install rpy2"
      ]
    },
    {
      "cell_type": "code",
      "execution_count": 139,
      "metadata": {
        "id": "478CbwqzYOvE"
      },
      "outputs": [],
      "source": [
        "%load_ext rpy2.ipython"
      ]
    },
    {
      "cell_type": "code",
      "execution_count": 140,
      "metadata": {
        "colab": {
          "base_uri": "https://localhost:8080/"
        },
        "id": "QyW40k3hYAwW",
        "outputId": "2843dafc-5892-4392-b3e3-7635b3d9d529"
      },
      "outputs": [
        {
          "name": "stderr",
          "output_type": "stream",
          "text": [
            "WARNING:rpy2.rinterface_lib.callbacks:R[write to console]: Installing package into ‘/usr/local/lib/R/site-library’\n",
            "(as ‘lib’ is unspecified)\n",
            "\n",
            "WARNING:rpy2.rinterface_lib.callbacks:R[write to console]: trying URL 'https://cran.rstudio.com/src/contrib/coop_0.6-3.tar.gz'\n",
            "\n",
            "WARNING:rpy2.rinterface_lib.callbacks:R[write to console]: Content type 'application/x-gzip'\n",
            "WARNING:rpy2.rinterface_lib.callbacks:R[write to console]:  length 467165 bytes (456 KB)\n",
            "\n",
            "WARNING:rpy2.rinterface_lib.callbacks:R[write to console]: =\n",
            "WARNING:rpy2.rinterface_lib.callbacks:R[write to console]: =\n",
            "WARNING:rpy2.rinterface_lib.callbacks:R[write to console]: =\n",
            "WARNING:rpy2.rinterface_lib.callbacks:R[write to console]: =\n",
            "WARNING:rpy2.rinterface_lib.callbacks:R[write to console]: =\n",
            "WARNING:rpy2.rinterface_lib.callbacks:R[write to console]: =\n",
            "WARNING:rpy2.rinterface_lib.callbacks:R[write to console]: =\n",
            "WARNING:rpy2.rinterface_lib.callbacks:R[write to console]: =\n",
            "WARNING:rpy2.rinterface_lib.callbacks:R[write to console]: =\n",
            "WARNING:rpy2.rinterface_lib.callbacks:R[write to console]: =\n",
            "WARNING:rpy2.rinterface_lib.callbacks:R[write to console]: =\n",
            "WARNING:rpy2.rinterface_lib.callbacks:R[write to console]: =\n",
            "WARNING:rpy2.rinterface_lib.callbacks:R[write to console]: =\n",
            "WARNING:rpy2.rinterface_lib.callbacks:R[write to console]: =\n",
            "WARNING:rpy2.rinterface_lib.callbacks:R[write to console]: =\n",
            "WARNING:rpy2.rinterface_lib.callbacks:R[write to console]: =\n",
            "WARNING:rpy2.rinterface_lib.callbacks:R[write to console]: =\n",
            "WARNING:rpy2.rinterface_lib.callbacks:R[write to console]: =\n",
            "WARNING:rpy2.rinterface_lib.callbacks:R[write to console]: =\n",
            "WARNING:rpy2.rinterface_lib.callbacks:R[write to console]: =\n",
            "WARNING:rpy2.rinterface_lib.callbacks:R[write to console]: =\n",
            "WARNING:rpy2.rinterface_lib.callbacks:R[write to console]: =\n",
            "WARNING:rpy2.rinterface_lib.callbacks:R[write to console]: =\n",
            "WARNING:rpy2.rinterface_lib.callbacks:R[write to console]: =\n",
            "WARNING:rpy2.rinterface_lib.callbacks:R[write to console]: =\n",
            "WARNING:rpy2.rinterface_lib.callbacks:R[write to console]: =\n",
            "WARNING:rpy2.rinterface_lib.callbacks:R[write to console]: =\n",
            "WARNING:rpy2.rinterface_lib.callbacks:R[write to console]: =\n",
            "WARNING:rpy2.rinterface_lib.callbacks:R[write to console]: =\n",
            "WARNING:rpy2.rinterface_lib.callbacks:R[write to console]: =\n",
            "WARNING:rpy2.rinterface_lib.callbacks:R[write to console]: =\n",
            "WARNING:rpy2.rinterface_lib.callbacks:R[write to console]: =\n",
            "WARNING:rpy2.rinterface_lib.callbacks:R[write to console]: =\n",
            "WARNING:rpy2.rinterface_lib.callbacks:R[write to console]: =\n",
            "WARNING:rpy2.rinterface_lib.callbacks:R[write to console]: =\n",
            "WARNING:rpy2.rinterface_lib.callbacks:R[write to console]: =\n",
            "WARNING:rpy2.rinterface_lib.callbacks:R[write to console]: =\n",
            "WARNING:rpy2.rinterface_lib.callbacks:R[write to console]: =\n",
            "WARNING:rpy2.rinterface_lib.callbacks:R[write to console]: =\n",
            "WARNING:rpy2.rinterface_lib.callbacks:R[write to console]: =\n",
            "WARNING:rpy2.rinterface_lib.callbacks:R[write to console]: =\n",
            "WARNING:rpy2.rinterface_lib.callbacks:R[write to console]: =\n",
            "WARNING:rpy2.rinterface_lib.callbacks:R[write to console]: =\n",
            "WARNING:rpy2.rinterface_lib.callbacks:R[write to console]: =\n",
            "WARNING:rpy2.rinterface_lib.callbacks:R[write to console]: =\n",
            "WARNING:rpy2.rinterface_lib.callbacks:R[write to console]: =\n",
            "WARNING:rpy2.rinterface_lib.callbacks:R[write to console]: =\n",
            "WARNING:rpy2.rinterface_lib.callbacks:R[write to console]: =\n",
            "WARNING:rpy2.rinterface_lib.callbacks:R[write to console]: =\n",
            "WARNING:rpy2.rinterface_lib.callbacks:R[write to console]: =\n",
            "WARNING:rpy2.rinterface_lib.callbacks:R[write to console]: \n",
            "\n",
            "WARNING:rpy2.rinterface_lib.callbacks:R[write to console]: downloaded 456 KB\n",
            "\n",
            "\n",
            "WARNING:rpy2.rinterface_lib.callbacks:R[write to console]: \n",
            "\n",
            "WARNING:rpy2.rinterface_lib.callbacks:R[write to console]: \n",
            "WARNING:rpy2.rinterface_lib.callbacks:R[write to console]: The downloaded source packages are in\n",
            "\t‘/tmp/RtmpqsJEHV/downloaded_packages’\n",
            "WARNING:rpy2.rinterface_lib.callbacks:R[write to console]: \n",
            "WARNING:rpy2.rinterface_lib.callbacks:R[write to console]: \n",
            "\n"
          ]
        }
      ],
      "source": [
        "%%R\n",
        "install.packages(\"coop\")\n"
      ]
    },
    {
      "cell_type": "code",
      "execution_count": 141,
      "metadata": {
        "colab": {
          "base_uri": "https://localhost:8080/"
        },
        "id": "p9g9ziY9U2EJ",
        "outputId": "9bda4859-016e-4392-a2c0-8e4557a2526c"
      },
      "outputs": [
        {
          "name": "stderr",
          "output_type": "stream",
          "text": [
            "/usr/local/lib/python3.10/dist-packages/rpy2/robjects/pandas2ri.py:55: FutureWarning: iteritems is deprecated and will be removed in a future version. Use .items instead.\n",
            "  for name, values in obj.iteritems():\n"
          ]
        }
      ],
      "source": [
        "\n",
        "\n",
        "%reload_ext rpy2.ipython\n",
        "\n",
        "# Passing the DataFrame to R\n",
        "%R -i normalized_ratings\n"
      ]
    },
    {
      "cell_type": "code",
      "execution_count": 142,
      "metadata": {
        "id": "63a3VxqtaA51"
      },
      "outputs": [],
      "source": [
        "# Running R code\n",
        "%%R\n",
        "library(coop)\n",
        "all_cosine_sim <- coop::cosine(as.matrix(normalized_ratings), use='pairwise.complete.obs')\n"
      ]
    },
    {
      "cell_type": "code",
      "execution_count": 143,
      "metadata": {
        "id": "6xqZ2PcLayGj"
      },
      "outputs": [],
      "source": [
        "#pass all_cosine_sim back to python\n",
        "\n",
        "%R -o all_cosine_sim"
      ]
    },
    {
      "cell_type": "code",
      "execution_count": 144,
      "metadata": {
        "colab": {
          "base_uri": "https://localhost:8080/"
        },
        "id": "qz04uSAhavcc",
        "outputId": "003b63af-a7ed-450d-e8b3-af68a1848246"
      },
      "outputs": [
        {
          "name": "stderr",
          "output_type": "stream",
          "text": [
            "<ipython-input-144-3942643e0390>:20: RuntimeWarning: invalid value encountered in add\n",
            "  normalized_all_cosine_sim = (all_cosine_sim + 1) / 2\n"
          ]
        }
      ],
      "source": [
        "import re\n",
        "\n",
        "# Function to sort the columns and index by the numeric part of their names\n",
        "def sort_dataframe_numerically(df):\n",
        "    # Define a lambda to strip 'm' and convert to int for sorting\n",
        "    extract_number = lambda x: int(x.lstrip('m'))\n",
        "\n",
        "    # Sort the column names\n",
        "    sorted_col_names = sorted(df.columns, key=extract_number)\n",
        "    df = df.reindex(columns=sorted_col_names)\n",
        "\n",
        "    # Sort the index if it contains 'm' prefixed numbers\n",
        "    if df.index.dtype == 'object' and df.index.str.startswith('m').any():\n",
        "        sorted_index = sorted(df.index, key=extract_number)\n",
        "        df = df.reindex(sorted_index)\n",
        "\n",
        "    return df\n",
        "\n",
        "# Normalize the similarity score to be between 0 and 1\n",
        "normalized_all_cosine_sim = (all_cosine_sim + 1) / 2\n",
        "\n",
        "# Create a boolean matrix indicating where each user has rated each movie (ignoring NaNs)\n",
        "user_movie_matrix = (~normalized_ratings.isna()).astype(int)\n",
        "\n",
        "# Compute the number of common users for each movie pair\n",
        "common_user_count = np.dot(user_movie_matrix.T, user_movie_matrix)\n",
        "\n",
        "# Create a mask for movie pairs with at least three common users\n",
        "valid_pairs_mask = common_user_count >= 3\n",
        "\n",
        "# Apply the mask to the cosine similarity matrix\n",
        "cosine_similarity_df = pd.DataFrame(np.where(valid_pairs_mask, normalized_all_cosine_sim, np.nan),\n",
        "                                    index=normalized_ratings.columns, columns=normalized_ratings.columns)\n",
        "\n",
        "# Set diagonal to NaN\n",
        "np.fill_diagonal(cosine_similarity_df.values, np.nan)\n",
        "cosine_similarity_df = sort_dataframe_numerically(cosine_similarity_df)\n",
        "#save the full similarity matrix\n",
        "\n",
        "cosine_similarity_df.to_csv('cosine_similarity_df.csv')"
      ]
    },
    {
      "cell_type": "code",
      "execution_count": 145,
      "metadata": {
        "colab": {
          "base_uri": "https://localhost:8080/"
        },
        "id": "LMayvq65i6vM",
        "outputId": "4b402b0d-0dfc-4097-9fa8-99745025f401"
      },
      "outputs": [
        {
          "name": "stdout",
          "output_type": "stream",
          "text": [
            "             m1       m10      m100  m1510      m260  m3212\n",
            "m1          NaN  0.512105  0.392000    NaN  0.741148    NaN\n",
            "m10    0.512105       NaN  0.547458    NaN  0.534334    NaN\n",
            "m100   0.392000  0.547458       NaN    NaN  0.329694    NaN\n",
            "m1510       NaN       NaN       NaN    NaN       NaN    NaN\n",
            "m260   0.741148  0.534334  0.329694    NaN       NaN    NaN\n",
            "m3212       NaN       NaN       NaN    NaN       NaN    NaN\n"
          ]
        }
      ],
      "source": [
        "import pandas as pd\n",
        "\n",
        "# read in cosine_similarity_df.csv\n",
        "cosine_similarity_df = pd.read_csv('cosine_similarity_df.csv', index_col=0)\n",
        "\n",
        "\n",
        "def display_pairwise_similarity(S, movie_ids):\n",
        "    # Extract the relevant rows and columns\n",
        "    similarity_submatrix = S.loc[movie_ids, movie_ids]\n",
        "    return pd.DataFrame(similarity_submatrix, index=movie_ids, columns=movie_ids).round(7)\n",
        "\n",
        "# Assuming movie IDs are zero-indexed in your matrix\n",
        "movie_ids = ['m1', 'm10', 'm100', 'm1510', 'm260', 'm3212']\n",
        "pairwise_similarities = display_pairwise_similarity(cosine_similarity_df, movie_ids)\n",
        "print(pairwise_similarities)\n"
      ]
    },
    {
      "cell_type": "code",
      "execution_count": 146,
      "metadata": {
        "id": "58roPEvBixdu"
      },
      "outputs": [],
      "source": [
        "import numpy as np\n",
        "\n",
        "\n",
        "def refine_similarity_matrix_df(S_df):\n",
        "    # Replace NaN with negative infinity for sorting within the DataFrame\n",
        "    S_refined = S_df.fillna(-np.inf)\n",
        "    # Get indices of top 30 values for each row\n",
        "    top_30_indices = np.argsort(S_refined.values, axis=1)[:, -30:]\n",
        "\n",
        "    # Create a new DataFrame to store the refined similarity matrix\n",
        "    S_refined_top_30 = pd.DataFrame(np.nan, index=S_df.index, columns=S_df.columns)\n",
        "\n",
        "    for i, indices in enumerate(top_30_indices):\n",
        "        # Get the column names corresponding to the top 30 indices\n",
        "        top_30_cols = S_df.columns[indices]\n",
        "        # Assign the top 30 values to the new DataFrame\n",
        "        S_refined_top_30.iloc[i][top_30_cols] = S_df.iloc[i][top_30_cols]\n",
        "\n",
        "\n",
        "    return S_refined_top_30\n",
        "\n",
        "\n",
        "# Refine the similarity matrix\n",
        "S_refined = refine_similarity_matrix_df(cosine_similarity_df)\n",
        "S_refined.head()\n",
        "\n",
        "\n",
        "\n",
        "# Save the matrix to a CSV file\n",
        "file_path = 'refined_similarity_matrix.csv'\n",
        "pd.DataFrame(S_refined).to_csv(file_path,index=True)"
      ]
    },
    {
      "cell_type": "code",
      "execution_count": 148,
      "metadata": {
        "colab": {
          "base_uri": "https://localhost:8080/"
        },
        "id": "ibSh7Rxe3cFl",
        "outputId": "796acd9b-222b-4420-872a-451111e36452"
      },
      "outputs": [
        {
          "name": "stdout",
          "output_type": "stream",
          "text": [
            "[('m3732', 5.0), ('m749', 4.5265591633724265), ('m3899', 4.526066011687579), ('m1039', 4.0), ('m1235', 4.0), ('m1253', 4.0), ('m1734', 4.0), ('m1914', 4.0), ('m2082', 4.0), ('m2361', 4.0)]\n"
          ]
        }
      ],
      "source": [
        "\n",
        "def myIBCF(user, S_refined, top_movies_by_genre,all_movies):\n",
        "    predictions = []\n",
        "    for movie in user.index:\n",
        "        if np.isnan(user[movie]):  # Movie is not rated by the user\n",
        "\n",
        "            s_series = S_refined.loc[movie] #get the row of the similary matrix for the movie\n",
        "\n",
        "            neighbors = s_series.dropna() #remove the na's\n",
        "\n",
        "            numerator = sum(S_refined.loc[movie,i] * np.nan_to_num(user.loc[i]) for i in neighbors.index)\n",
        "\n",
        "            user2 = user.copy()\n",
        "            mask = (user2!=0) & (~np.isnan(user2))\n",
        "            user2[mask]=1\n",
        "\n",
        "            d = sum(S_refined.loc[movie,i] * np.nan_to_num(user2.loc[i]) for i in neighbors.index)\n",
        "            # Only consider neighbors that have been rated by the user\n",
        "\n",
        "            prediction = numerator / d if d != 0 else 0\n",
        "            predictions.append((movie, prediction))\n",
        "\n",
        "\n",
        "\n",
        "      # Handle case where fewer than 10 predictions are non-NA\n",
        "    if len(predictions)<10:\n",
        "      top = len(predictions)\n",
        "    else:\n",
        "      top = 10\n",
        "    # Sort predictions in descending order and get the top top\n",
        "    top_movies = sorted(predictions, key=lambda x: x[1], reverse=True)[:top]\n",
        "\n",
        "\n",
        "  # Logic to handle fewer than 10 predictions\n",
        "    # if fewer than 10 get the genre of the top movie and then get the most popular in that genra (system I)\n",
        "\n",
        "    if top <10:\n",
        "      if top == 0:\n",
        "        #give them top Sci-Fi\n",
        "        recommend = top_movies_by_genre[top_movies_by_genre['Genres']=='Sci-Fi']\n",
        "\n",
        "      else:\n",
        "        #remove the movies in the top_movies_by_genre already selected by user and by top_movies:\n",
        "        top_movies_list = [i[0] for i in top_movies]\n",
        "        movies_to_remove = top_movies_list + list(user2.index)\n",
        "        movies_to_remove = list(set(movies_to_remove))\n",
        "        bool_series = top_movies_by_genre.index.isin(movies_to_remove)\n",
        "        filter_top_movies_by_genre = top_movies_by_genre.iloc[~bool_series]\n",
        "        #get the genre of his top selecion\n",
        "        top_genre = all_movies.loc[top_movies_list[0],'Genres']\n",
        "\n",
        "        top_genre_df = top_movies_by_genre[top_movies_by_genre['Genres']==top_genre]\n",
        "\n",
        "        add_on_movies = list(top_genre_df.iloc[:10-top]['MovieID'])\n",
        "        tuple_movies = [(i,999) for i in add_on_movies ]\n",
        "        top_movies = top_movies + tuple_movies\n",
        "\n",
        "\n",
        "\n",
        "\n",
        "\n",
        "    # Logic for additional recommendations\n",
        "\n",
        "    return top_movies\n",
        "\n",
        "# read in cosine_similarity_df.csv\n",
        "#S_refined = pd.read_csv('refined_similarity_matrix.csv', index_col=0)\n",
        "\n",
        "# Extracting ratings for user 'u1181'\n",
        "\n",
        "user_u1181_ratings = ratings_matrix.loc['u1181']\n",
        "# Extracting ratings for user 'u1351'\n",
        "user_u1351_ratings = ratings_matrix.loc['u1351']\n",
        "\n",
        "blank_user = user_u1351_ratings.apply(lambda x: np.nan)\n",
        "\n",
        "#A hypothetical user who rates movie “m1613” with 5 and movie “m1755” with 4\n",
        "\n",
        "hypo_user = blank_user.copy()\n",
        "hypo_user.name = 'hypo_user'\n",
        "hypo_user['m1613'] =5\n",
        "hypo_user['m1755'] =4\n",
        "\n",
        "\n",
        "print( myIBCF(user_u1181_ratings,S_refined,top_movies_by_genre, all_movies ) )"
      ]
    }
  ],
  "metadata": {
    "colab": {
      "gpuType": "V100",
      "machine_shape": "hm",
      "provenance": []
    },
    "kernelspec": {
      "display_name": "Python 3",
      "name": "python3"
    },
    "language_info": {
      "name": "python"
    }
  },
  "nbformat": 4,
  "nbformat_minor": 0
}
